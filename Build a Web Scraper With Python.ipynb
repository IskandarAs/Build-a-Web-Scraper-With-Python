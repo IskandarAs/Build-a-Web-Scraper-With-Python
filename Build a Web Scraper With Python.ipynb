{
 "cells": [
  {
   "cell_type": "markdown",
   "metadata": {},
   "source": [
    "> ## Beautiful Soup: Build a Web Scraper With Python"
   ]
  },
  {
   "cell_type": "markdown",
   "metadata": {},
   "source": [
    "![](https://static.javatpoint.com/python/images/web-scraping-using-python.png)"
   ]
  },
  {
   "cell_type": "markdown",
   "metadata": {},
   "source": [
    "#### Definition of Web Scraping"
   ]
  },
  {
   "cell_type": "markdown",
   "metadata": {},
   "source": [
    "\n",
    "#### What Is Web Scraping?\n",
    "- **Web scraping** is the process of gathering information from the Internet. Even copy-pasting the lyrics of your favorite song is a form of web scraping! However, the words “web scraping” usually refer to a process that involves automation. Some websites don’t like it when automatic scrapers gather their data, while others don’t mind.\n",
    "---"
   ]
  },
  {
   "cell_type": "code",
   "execution_count": 20,
   "metadata": {},
   "outputs": [],
   "source": [
    "import bs4 as bs\n",
    "import requests\n",
    "from selenium import webdriver\n",
    "import time"
   ]
  },
  {
   "cell_type": "code",
   "execution_count": 25,
   "metadata": {},
   "outputs": [
    {
     "name": "stdout",
     "output_type": "stream",
     "text": [
      "Link to page: https://genius.com/artists/Billie-eilish\n",
      "5 most popular Billie Eilish songs:\n",
      "-​when the party’s over(quantity views: 3.3M)\n",
      "-​bad guy(quantity views: 2.9M)\n",
      "-​everything i wanted(quantity views: 2.8M)\n",
      "-​idontwannabeyouanymore(quantity views: 2.4M)\n",
      "-​bury a friend(quantity views: 2.3M)\n"
     ]
    }
   ],
   "source": [
    "# Scrape HTML Content From a Page\n",
    "browser = webdriver.Chrome('G:/chromedriver.exe')\n",
    "# Choose an artist on the web-source\n",
    "browser.get('https://genius.com/search?q=billie%20eilish')\n",
    "time.sleep(3)\n",
    "search_page = bs.BeautifulSoup(browser.page_source,'lxml')\n",
    "# Get page content by its URL\n",
    "search_link = search_page.select_one('a[set-class-before-navigate=\"mini_card--active\"]').get('href')\n",
    "browser.get(search_link)\n",
    "time.sleep(3)\n",
    "bands_page = bs.BeautifulSoup(browser.page_source,'lxml')\n",
    "popular_songs = bands_page.select('div.mini_card_grid-song')\n",
    "bands_name=bands_page.select_one('h1').find(text=True).strip()\n",
    "songs_quantity = 5\n",
    "# Most popular choosing artist songs by quantity views\n",
    "print('Link to page:',search_link)\n",
    "print('{} most popular {} songs:'.format(songs_quantity,bands_name))\n",
    "for songs in popular_songs[0:songs_quantity]:\n",
    "    song_title = songs.select_one('div.mini_card-title').text.strip()\n",
    "    page_seen = '?'\n",
    "    try:\n",
    "        page_seen = songs.select_one('span[ng-if=\":: $ctrl.song.stats.pageviews\"]').text.strip()\n",
    "    except Exception:\n",
    "        pass\n",
    "    print('-{}(quantity views: {})'.format(song_title,page_seen))\n",
    "browser.quit()"
   ]
  }
 ],
 "metadata": {
  "kernelspec": {
   "display_name": "Python 3",
   "language": "python",
   "name": "python3"
  },
  "language_info": {
   "codemirror_mode": {
    "name": "ipython",
    "version": 3
   },
   "file_extension": ".py",
   "mimetype": "text/x-python",
   "name": "python",
   "nbconvert_exporter": "python",
   "pygments_lexer": "ipython3",
   "version": "3.8.3"
  }
 },
 "nbformat": 4,
 "nbformat_minor": 4
}
